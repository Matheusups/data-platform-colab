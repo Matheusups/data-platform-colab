{
  "nbformat": 4,
  "nbformat_minor": 0,
  "metadata": {
    "colab": {
      "provenance": [],
      "mount_file_id": "1GTr_RmYS4oeVuPy8DO2G1k6NQXABfADk",
      "authorship_tag": "ABX9TyOec0Ru3/Y9qjfnPwG6hqef"
    },
    "kernelspec": {
      "name": "python3",
      "display_name": "Python 3"
    },
    "language_info": {
      "name": "python"
    }
  },
  "cells": [
    {
      "cell_type": "markdown",
      "source": [
        "## **Import Libraries**"
      ],
      "metadata": {
        "id": "oTqFbE8jOrBe"
      }
    },
    {
      "cell_type": "code",
      "source": [
        "pip install s3fs"
      ],
      "metadata": {
        "colab": {
          "base_uri": "https://localhost:8080/"
        },
        "collapsed": true,
        "id": "ms1V9gK9P3S0",
        "outputId": "8309041a-70df-4153-c697-2a2a38614f38"
      },
      "execution_count": null,
      "outputs": [
        {
          "output_type": "stream",
          "name": "stdout",
          "text": [
            "Collecting jmespath<2.0.0,>=0.7.1 (from aiobotocore<3.0.0,>=2.5.4->s3fs)\n",
            "  Downloading jmespath-1.0.1-py3-none-any.whl.metadata (7.6 kB)\n",
            "Requirement already satisfied: multidict<7.0.0,>=6.0.0 in /usr/local/lib/python3.11/dist-packages (from aiobotocore<3.0.0,>=2.5.4->s3fs) (6.1.0)\n",
            "Requirement already satisfied: wrapt<2.0.0,>=1.10.10 in /usr/local/lib/python3.11/dist-packages (from aiobotocore<3.0.0,>=2.5.4->s3fs) (1.17.2)\n",
            "Requirement already satisfied: aiohappyeyeballs>=2.3.0 in /usr/local/lib/python3.11/dist-packages (from aiohttp!=4.0.0a0,!=4.0.0a1->s3fs) (2.6.1)\n",
            "Requirement already satisfied: aiosignal>=1.1.2 in /usr/local/lib/python3.11/dist-packages (from aiohttp!=4.0.0a0,!=4.0.0a1->s3fs) (1.3.2)\n",
            "Requirement already satisfied: attrs>=17.3.0 in /usr/local/lib/python3.11/dist-packages (from aiohttp!=4.0.0a0,!=4.0.0a1->s3fs) (25.2.0)\n",
            "Requirement already satisfied: frozenlist>=1.1.1 in /usr/local/lib/python3.11/dist-packages (from aiohttp!=4.0.0a0,!=4.0.0a1->s3fs) (1.5.0)\n",
            "Requirement already satisfied: propcache>=0.2.0 in /usr/local/lib/python3.11/dist-packages (from aiohttp!=4.0.0a0,!=4.0.0a1->s3fs) (0.3.0)\n",
            "Requirement already satisfied: yarl<2.0,>=1.17.0 in /usr/local/lib/python3.11/dist-packages (from aiohttp!=4.0.0a0,!=4.0.0a1->s3fs) (1.18.3)\n",
            "Requirement already satisfied: urllib3!=2.2.0,<3,>=1.25.4 in /usr/local/lib/python3.11/dist-packages (from botocore<1.37.2,>=1.37.0->aiobotocore<3.0.0,>=2.5.4->s3fs) (2.3.0)\n",
            "Requirement already satisfied: six>=1.5 in /usr/local/lib/python3.11/dist-packages (from python-dateutil<3.0.0,>=2.1->aiobotocore<3.0.0,>=2.5.4->s3fs) (1.17.0)\n",
            "Requirement already satisfied: idna>=2.0 in /usr/local/lib/python3.11/dist-packages (from yarl<2.0,>=1.17.0->aiohttp!=4.0.0a0,!=4.0.0a1->s3fs) (3.10)\n",
            "Downloading s3fs-2025.3.0-py3-none-any.whl (30 kB)\n",
            "Downloading fsspec-2025.3.0-py3-none-any.whl (193 kB)\n",
            "\u001b[2K   \u001b[90m━━━━━━━━━━━━━━━━━━━━━━━━━━━━━━━━━━━━━━━━\u001b[0m \u001b[32m193.6/193.6 kB\u001b[0m \u001b[31m5.2 MB/s\u001b[0m eta \u001b[36m0:00:00\u001b[0m\n",
            "\u001b[?25hDownloading aiobotocore-2.21.1-py3-none-any.whl (78 kB)\n",
            "\u001b[2K   \u001b[90m━━━━━━━━━━━━━━━━━━━━━━━━━━━━━━━━━━━━━━━━\u001b[0m \u001b[32m78.3/78.3 kB\u001b[0m \u001b[31m4.3 MB/s\u001b[0m eta \u001b[36m0:00:00\u001b[0m\n",
            "\u001b[?25hDownloading aioitertools-0.12.0-py3-none-any.whl (24 kB)\n",
            "Downloading botocore-1.37.1-py3-none-any.whl (13.4 MB)\n",
            "\u001b[2K   \u001b[90m━━━━━━━━━━━━━━━━━━━━━━━━━━━━━━━━━━━━━━━━\u001b[0m \u001b[32m13.4/13.4 MB\u001b[0m \u001b[31m20.2 MB/s\u001b[0m eta \u001b[36m0:00:00\u001b[0m\n",
            "\u001b[?25hDownloading jmespath-1.0.1-py3-none-any.whl (20 kB)\n",
            "Installing collected packages: jmespath, fsspec, aioitertools, botocore, aiobotocore, s3fs\n",
            "  Attempting uninstall: fsspec\n",
            "    Found existing installation: fsspec 2024.10.0\n",
            "    Uninstalling fsspec-2024.10.0:\n",
            "      Successfully uninstalled fsspec-2024.10.0\n",
            "\u001b[31mERROR: pip's dependency resolver does not currently take into account all the packages that are installed. This behaviour is the source of the following dependency conflicts.\n",
            "gcsfs 2024.10.0 requires fsspec==2024.10.0, but you have fsspec 2025.3.0 which is incompatible.\n",
            "torch 2.6.0+cu124 requires nvidia-cublas-cu12==12.4.5.8; platform_system == \"Linux\" and platform_machine == \"x86_64\", but you have nvidia-cublas-cu12 12.5.3.2 which is incompatible.\n",
            "torch 2.6.0+cu124 requires nvidia-cuda-cupti-cu12==12.4.127; platform_system == \"Linux\" and platform_machine == \"x86_64\", but you have nvidia-cuda-cupti-cu12 12.5.82 which is incompatible.\n",
            "torch 2.6.0+cu124 requires nvidia-cuda-nvrtc-cu12==12.4.127; platform_system == \"Linux\" and platform_machine == \"x86_64\", but you have nvidia-cuda-nvrtc-cu12 12.5.82 which is incompatible.\n",
            "torch 2.6.0+cu124 requires nvidia-cuda-runtime-cu12==12.4.127; platform_system == \"Linux\" and platform_machine == \"x86_64\", but you have nvidia-cuda-runtime-cu12 12.5.82 which is incompatible.\n",
            "torch 2.6.0+cu124 requires nvidia-cudnn-cu12==9.1.0.70; platform_system == \"Linux\" and platform_machine == \"x86_64\", but you have nvidia-cudnn-cu12 9.3.0.75 which is incompatible.\n",
            "torch 2.6.0+cu124 requires nvidia-cufft-cu12==11.2.1.3; platform_system == \"Linux\" and platform_machine == \"x86_64\", but you have nvidia-cufft-cu12 11.2.3.61 which is incompatible.\n",
            "torch 2.6.0+cu124 requires nvidia-curand-cu12==10.3.5.147; platform_system == \"Linux\" and platform_machine == \"x86_64\", but you have nvidia-curand-cu12 10.3.6.82 which is incompatible.\n",
            "torch 2.6.0+cu124 requires nvidia-cusolver-cu12==11.6.1.9; platform_system == \"Linux\" and platform_machine == \"x86_64\", but you have nvidia-cusolver-cu12 11.6.3.83 which is incompatible.\n",
            "torch 2.6.0+cu124 requires nvidia-cusparse-cu12==12.3.1.170; platform_system == \"Linux\" and platform_machine == \"x86_64\", but you have nvidia-cusparse-cu12 12.5.1.3 which is incompatible.\n",
            "torch 2.6.0+cu124 requires nvidia-nvjitlink-cu12==12.4.127; platform_system == \"Linux\" and platform_machine == \"x86_64\", but you have nvidia-nvjitlink-cu12 12.5.82 which is incompatible.\u001b[0m\u001b[31m\n",
            "\u001b[0mSuccessfully installed aiobotocore-2.21.1 aioitertools-0.12.0 botocore-1.37.1 fsspec-2025.3.0 jmespath-1.0.1 s3fs-2025.3.0\n"
          ]
        }
      ]
    },
    {
      "cell_type": "code",
      "source": [
        "import s3fs\n",
        "import pandas as pd"
      ],
      "metadata": {
        "id": "7KZoyetIIhau"
      },
      "execution_count": null,
      "outputs": []
    },
    {
      "cell_type": "markdown",
      "source": [
        "# **Funções**"
      ],
      "metadata": {
        "id": "6MPYfCfHjsT2"
      }
    },
    {
      "cell_type": "markdown",
      "source": [
        "\n",
        "\n",
        "### **listar_s3**\n",
        "Responsável por listar arquivos e pastas dentro do bucket. Retorno um dataframe estruturado por **Caminho, tipo e objeto**."
      ],
      "metadata": {
        "id": "g2nx3kH-alUP"
      }
    },
    {
      "cell_type": "code",
      "source": [
        "def listar_s3(bucket_name,num_reg,tipo):\n",
        " \"\"\"\n",
        "    Lista arquivos e pastas em um bucket S3, incluindo o tamanho dos arquivos em MB.\n",
        "\n",
        "    Args:\n",
        "        bucket_name (str): O nome do bucket S3.\n",
        "        num_reg (int): Quantidade de registros desejados no retorno.\n",
        "        tipo (str): 'Arquivo', 'Pasta' ou None para ambos.\n",
        "\n",
        "    Returns:\n",
        "        pandas.DataFrame: DataFrame com a lista de objetos, tipo e tamanho em MB (para arquivos).\n",
        "    \"\"\"\n",
        "\n",
        "    fs = s3fs.S3FileSystem(anon=True)\n",
        "    dados = []\n",
        "\n",
        "    for dirpath, dirnames, filenames in fs.walk(bucket_name):\n",
        "        for subpasta in dirnames:\n",
        "            dados.append({\n",
        "                          \"Caminho\": dirpath,\n",
        "                          \"Tipo\": \"Pasta\",\n",
        "                          \"Objeto\":subpasta,\n",
        "                          \"Tamanho (MB)\": None\n",
        "                          })\n",
        "        for arquivo in filenames:\n",
        "            caminho_completo = f\"{dirpath}/{arquivo}\"\n",
        "            try:\n",
        "                info = fs.info(caminho_completo)\n",
        "                tamanho_bytes = info['size']\n",
        "                tamanho_mb = tamanho_bytes / (1024 * 1024)  # Converter bytes para MB\n",
        "            except FileNotFoundError:\n",
        "                tamanho_mb = None\n",
        "            dados.append({\"Caminho\": dirpath, \"Tipo\": \"Arquivo\", \"Objeto\": arquivo, \"Tamanho (MB)\": tamanho_mb})\n",
        "\n",
        "    df = pd.DataFrame(dados)\n",
        "    df = df[df['Objeto'].notna() & (df['Objeto'] != '')]\n",
        "\n",
        "    if tipo is None:\n",
        "        df_final = df.head(num_reg)\n",
        "    elif tipo == 'Pasta':\n",
        "        df_final = df[df['Tipo'] == tipo].head(num_reg)\n",
        "    elif tipo == 'Arquivo':\n",
        "        df_final = df[df['Tipo'] == tipo].head(num_reg)\n",
        "\n",
        "    return df_final"
      ],
      "metadata": {
        "id": "2Vl5DuUFPzwi"
      },
      "execution_count": null,
      "outputs": []
    },
    {
      "cell_type": "code",
      "source": [
        "df_list = listar_s3('s3://ons-aws-prod-opendata/',10000,'Arquivo')"
      ],
      "metadata": {
        "id": "v5QbOYviRwrl"
      },
      "execution_count": null,
      "outputs": []
    },
    {
      "cell_type": "markdown",
      "source": [
        "### **download_list_s3**\n",
        "Permite realizar o download dos dados no filesystem local de depuração da plataforma, assim facilitando a analise no formato desejado (Excel ou CSV)."
      ],
      "metadata": {
        "id": "clkwqfR0jva-"
      }
    },
    {
      "cell_type": "code",
      "source": [
        "def download_list_s3(dataframe,formato):\n",
        "  \"\"\"\n",
        "  Args:\n",
        "        dataframe (pandas.dataframe): Dataframe com informações de pastas e arquivos recebidos na função *listar_s3*\n",
        "        formato (str): formato 'CSV' ou 'Excel'.\n",
        "\n",
        "  Returns:\n",
        "        Arquivo no formato solicitado dentro do ./diretorio_atual\n",
        "  \"\"\"\n",
        "  if formato == 'Excel':\n",
        "    return dataframe.to_excel('./list_folders_files.xlsx', index=False)\n",
        "  elif formato == 'CSV':\n",
        "    return dataframe.to_csv('./list_folders_files.csv', index=False)"
      ],
      "metadata": {
        "id": "qmkgJ3WjgdB7"
      },
      "execution_count": null,
      "outputs": []
    },
    {
      "cell_type": "code",
      "source": [
        "download_list_s3(df_list,'Excel')"
      ],
      "metadata": {
        "id": "osgSwex-hW7t"
      },
      "execution_count": null,
      "outputs": []
    },
    {
      "cell_type": "markdown",
      "source": [
        "### **Download da Documetação**\n",
        "\n",
        "- Lista no diretório do s3 todos arquivos cujo a extensão terminam em .pdf\n",
        "- Realiza  o download desses pdfs no diretório local indicado na função"
      ],
      "metadata": {
        "id": "vpnNihzLN3Fj"
      }
    },
    {
      "cell_type": "code",
      "source": [
        "def baixar_pdfs_s3(bucket_name, diretorio_local):\n",
        "    \"\"\"\n",
        "    Baixa todos os arquivos PDF de um bucket S3 para um diretório local,\n",
        "    usando o comando walk para identificar os arquivos.\n",
        "\n",
        "\n",
        "    Use case(code):\n",
        "    bucket_name = 's3://ons-aws-prod-opendata/'\n",
        "    diretorio_local = 'pdfs_baixados'  # Diretório local para salvar os PDFs\n",
        "\n",
        "    baixar_pdfs_s3(bucket_name, diretorio_local)\n",
        "\n",
        "    Args:\n",
        "        bucket_name (str): O nome do bucket S3.\n",
        "        diretorio_local (str): O caminho do diretório local para salvar os PDFs.\n",
        "    \"\"\"\n",
        "\n",
        "    fs = s3fs.S3FileSystem(anon=True)\n",
        "\n",
        "    # Cria o diretório local se ele não existir\n",
        "    if not os.path.exists(diretorio_local):\n",
        "        os.makedirs(diretorio_local)\n",
        "\n",
        "    # Usa o comando walk para percorrer o bucket\n",
        "    for dirpath, dirnames, filenames in fs.walk(bucket_name):\n",
        "        for filename in filenames:\n",
        "            if filename.endswith('.pdf'):\n",
        "                caminho_completo = f\"{dirpath}/{filename}\"\n",
        "                caminho_local = os.path.join(diretorio_local, filename)\n",
        "                try:\n",
        "                    fs.get(caminho_completo, caminho_local)\n",
        "                    print(f\"Arquivo {filename} baixado com sucesso\")\n",
        "                except Exception as e:\n",
        "                    print(f\"Erro ao baixar o arquivo {filename}: {e}\")\n"
      ],
      "metadata": {
        "id": "JZavMSH4Pzdy"
      },
      "execution_count": 75,
      "outputs": []
    }
  ]
}