{
  "nbformat": 4,
  "nbformat_minor": 0,
  "metadata": {
    "colab": {
      "provenance": [],
      "authorship_tag": "ABX9TyO60lyk4TqilxOk1s6PENbj",
      "include_colab_link": true
    },
    "kernelspec": {
      "name": "python3",
      "display_name": "Python 3"
    },
    "language_info": {
      "name": "python"
    }
  },
  "cells": [
    {
      "cell_type": "markdown",
      "metadata": {
        "id": "view-in-github",
        "colab_type": "text"
      },
      "source": [
        "<a href=\"https://colab.research.google.com/github/Matheusups/data-platform-colab/blob/main/core/functions.ipynb\" target=\"_parent\"><img src=\"https://colab.research.google.com/assets/colab-badge.svg\" alt=\"Open In Colab\"/></a>"
      ]
    },
    {
      "cell_type": "markdown",
      "source": [
        "## **Import Libraries**"
      ],
      "metadata": {
        "id": "oTqFbE8jOrBe"
      }
    },
    {
      "cell_type": "code",
      "source": [
        "pip install s3fs"
      ],
      "metadata": {
        "colab": {
          "base_uri": "https://localhost:8080/"
        },
        "collapsed": true,
        "id": "ms1V9gK9P3S0",
        "outputId": "41657b92-01b8-4a12-903a-78211189a355"
      },
      "execution_count": 34,
      "outputs": [
        {
          "output_type": "stream",
          "name": "stdout",
          "text": [
            "Requirement already satisfied: s3fs in /usr/local/lib/python3.11/dist-packages (2025.3.0)\n",
            "Requirement already satisfied: aiobotocore<3.0.0,>=2.5.4 in /usr/local/lib/python3.11/dist-packages (from s3fs) (2.21.1)\n",
            "Requirement already satisfied: fsspec==2025.3.0.* in /usr/local/lib/python3.11/dist-packages (from s3fs) (2025.3.0)\n",
            "Requirement already satisfied: aiohttp!=4.0.0a0,!=4.0.0a1 in /usr/local/lib/python3.11/dist-packages (from s3fs) (3.11.13)\n",
            "Requirement already satisfied: aioitertools<1.0.0,>=0.5.1 in /usr/local/lib/python3.11/dist-packages (from aiobotocore<3.0.0,>=2.5.4->s3fs) (0.12.0)\n",
            "Requirement already satisfied: botocore<1.37.2,>=1.37.0 in /usr/local/lib/python3.11/dist-packages (from aiobotocore<3.0.0,>=2.5.4->s3fs) (1.37.1)\n",
            "Requirement already satisfied: python-dateutil<3.0.0,>=2.1 in /usr/local/lib/python3.11/dist-packages (from aiobotocore<3.0.0,>=2.5.4->s3fs) (2.8.2)\n",
            "Requirement already satisfied: jmespath<2.0.0,>=0.7.1 in /usr/local/lib/python3.11/dist-packages (from aiobotocore<3.0.0,>=2.5.4->s3fs) (1.0.1)\n",
            "Requirement already satisfied: multidict<7.0.0,>=6.0.0 in /usr/local/lib/python3.11/dist-packages (from aiobotocore<3.0.0,>=2.5.4->s3fs) (6.1.0)\n",
            "Requirement already satisfied: wrapt<2.0.0,>=1.10.10 in /usr/local/lib/python3.11/dist-packages (from aiobotocore<3.0.0,>=2.5.4->s3fs) (1.17.2)\n",
            "Requirement already satisfied: aiohappyeyeballs>=2.3.0 in /usr/local/lib/python3.11/dist-packages (from aiohttp!=4.0.0a0,!=4.0.0a1->s3fs) (2.6.1)\n",
            "Requirement already satisfied: aiosignal>=1.1.2 in /usr/local/lib/python3.11/dist-packages (from aiohttp!=4.0.0a0,!=4.0.0a1->s3fs) (1.3.2)\n",
            "Requirement already satisfied: attrs>=17.3.0 in /usr/local/lib/python3.11/dist-packages (from aiohttp!=4.0.0a0,!=4.0.0a1->s3fs) (25.2.0)\n",
            "Requirement already satisfied: frozenlist>=1.1.1 in /usr/local/lib/python3.11/dist-packages (from aiohttp!=4.0.0a0,!=4.0.0a1->s3fs) (1.5.0)\n",
            "Requirement already satisfied: propcache>=0.2.0 in /usr/local/lib/python3.11/dist-packages (from aiohttp!=4.0.0a0,!=4.0.0a1->s3fs) (0.3.0)\n",
            "Requirement already satisfied: yarl<2.0,>=1.17.0 in /usr/local/lib/python3.11/dist-packages (from aiohttp!=4.0.0a0,!=4.0.0a1->s3fs) (1.18.3)\n",
            "Requirement already satisfied: urllib3!=2.2.0,<3,>=1.25.4 in /usr/local/lib/python3.11/dist-packages (from botocore<1.37.2,>=1.37.0->aiobotocore<3.0.0,>=2.5.4->s3fs) (2.3.0)\n",
            "Requirement already satisfied: six>=1.5 in /usr/local/lib/python3.11/dist-packages (from python-dateutil<3.0.0,>=2.1->aiobotocore<3.0.0,>=2.5.4->s3fs) (1.17.0)\n",
            "Requirement already satisfied: idna>=2.0 in /usr/local/lib/python3.11/dist-packages (from yarl<2.0,>=1.17.0->aiohttp!=4.0.0a0,!=4.0.0a1->s3fs) (3.10)\n"
          ]
        }
      ]
    },
    {
      "cell_type": "code",
      "source": [
        "import s3fs\n",
        "import pandas as pd"
      ],
      "metadata": {
        "id": "7KZoyetIIhau"
      },
      "execution_count": 39,
      "outputs": []
    },
    {
      "cell_type": "markdown",
      "source": [
        "# **Funções**"
      ],
      "metadata": {
        "id": "6MPYfCfHjsT2"
      }
    },
    {
      "cell_type": "markdown",
      "source": [
        "\n",
        "\n",
        "### **listar_s3**\n",
        "Responsável por listar arquivos e pastas dentro do bucket. Retorno um dataframe estruturado por **Caminho, tipo e objeto**."
      ],
      "metadata": {
        "id": "g2nx3kH-alUP"
      }
    },
    {
      "cell_type": "code",
      "source": [
        "def listar_s3(bucket_name,num_reg,tipo):\n",
        "  \"\"\"\n",
        "  Args:\n",
        "        bucket_nome (str): O nome do bucket S3.\n",
        "        num_reg (str): Quantidade de registros desejados no retorno.\n",
        "        tipo (str): Arquivo ou Pasta.\n",
        "\n",
        "  Returns:\n",
        "        pandas.DataFrame: Recebe a lista de pastas e arquivos dentro do bucket para que possa ser realizado a analise dos caminhos.\n",
        "  \"\"\"\n",
        "\n",
        "  # Conectar ao S3\n",
        "  fs = s3fs.S3FileSystem(anon=True)  # Usando anon=True para acesso público\n",
        "\n",
        "  # Walk para percorrer storage acessado\n",
        "  # Listagem de arquivos e pastas separadamente\n",
        "  dados = []\n",
        "  for dirpath, dirnames, filenames in fs.walk(bucket_name):\n",
        "      for subpasta in dirnames:\n",
        "          dados.append({\"Caminho\": dirpath, \"Tipo\": \"Pasta\", \"Objeto\": subpasta})\n",
        "      for arquivo in filenames:\n",
        "          dados.append({\"Caminho\": dirpath, \"Tipo\": \"Arquivo\", \"Objeto\": arquivo})\n",
        "\n",
        "  df = pd.DataFrame(dados)\n",
        "\n",
        "  if tipo is None:\n",
        "    df_final = df.head(num_reg)\n",
        "  elif tipo == 'Pasta':\n",
        "    df_final = df[df['Tipo'] == tipo].head(num_reg)\n",
        "  elif tipo == 'Arquivo':\n",
        "    df_final = df[df['Tipo'] == tipo].head(num_reg)\n",
        "\n",
        "  return df_final\n"
      ],
      "metadata": {
        "id": "2Vl5DuUFPzwi"
      },
      "execution_count": 40,
      "outputs": []
    },
    {
      "cell_type": "code",
      "source": [
        "df_list = listar_s3('s3://ons-aws-prod-opendata/',10000,'Arquivo')"
      ],
      "metadata": {
        "id": "v5QbOYviRwrl"
      },
      "execution_count": 53,
      "outputs": []
    },
    {
      "cell_type": "markdown",
      "source": [
        "### **download_list_s3**\n",
        "Permite realizar o download dos dados no filesystem local de depuração da plataforma, assim facilitando a analise no formato desejado (Excel ou CSV)."
      ],
      "metadata": {
        "id": "clkwqfR0jva-"
      }
    },
    {
      "cell_type": "code",
      "source": [
        "def download_list_s3(dataframe,formato):\n",
        "  \"\"\"\n",
        "  Args:\n",
        "        dataframe (pandas.dataframe): Dataframe com informações de pastas e arquivos recebidos na função *listar_s3*\n",
        "        formato (str): formato CSV ou Excel\n",
        "\n",
        "  Returns:\n",
        "        Arquivo no formato solicitado dentro do ./diretorio_atual\n",
        "  \"\"\"\n",
        "  if formato == 'Excel':\n",
        "    return dataframe.to_excel('./list_folders_files.xlsx', index=False)\n",
        "  elif formato == 'CSV':\n",
        "    return dataframe.to_csv('./list_folders_files.csv', index=False)"
      ],
      "metadata": {
        "id": "qmkgJ3WjgdB7"
      },
      "execution_count": 58,
      "outputs": []
    },
    {
      "cell_type": "code",
      "source": [
        "download_list_s3(df_list,'Excel')"
      ],
      "metadata": {
        "id": "osgSwex-hW7t"
      },
      "execution_count": 57,
      "outputs": []
    }
  ]
}